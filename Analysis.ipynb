{
 "cells": [
  {
   "cell_type": "code",
   "execution_count": 1,
   "metadata": {},
   "outputs": [],
   "source": [
    "import numpy as np\n",
    "import matplotlib.pyplot as plt\n",
    "from scipy import stats"
   ]
  },
  {
   "cell_type": "code",
   "execution_count": 6,
   "metadata": {},
   "outputs": [],
   "source": [
    "def plot(method, sz):\n",
    "    means = []\n",
    "    ste = []\n",
    "    for i in range(sz):\n",
    "        o = np.load(f\"logs/results/results_nagents_20_numeps_40_nfaulty_{i}_faultytype_randomobs_method_{method}.npy\")\n",
    "        means.append(np.abs((o[0, :, 0] - o[1, :, 0])).mean())\n",
    "        ste.append(stats.sem(np.abs((o[0, :, 0] - o[1, :, 0]))))\n",
    "    plt.errorbar(x=range(sz), y=means, yerr=ste, label=method)"
   ]
  },
  {
   "cell_type": "code",
   "execution_count": 9,
   "metadata": {},
   "outputs": [
    {
     "data": {
      "image/png": "[encoded data removed]",
      "text/plain": [
       "<Figure size 432x288 with 1 Axes>"
      ]
     },
     "metadata": {
      "needs_background": "light"
     },
     "output_type": "display_data"
    }
   ],
   "source": [
    "plot(\"LF+AF\", 6)\n",
    "plot(\"PBFT\", 3)"
   ]
  },
  {
   "cell_type": "code",
   "execution_count": 12,
   "metadata": {},
   "outputs": [
    {
     "data": {
      "text/plain": [
       "(2, 100, 10)"
      ]
     },
     "execution_count": 12,
     "metadata": {},
     "output_type": "execute_result"
    }
   ],
   "source": [
    "o.shape"
   ]
  },
  {
   "cell_type": "code",
   "execution_count": 1,
   "metadata": {},
   "outputs": [],
   "source": [
    "import pickle"
   ]
  },
  {
   "cell_type": "code",
   "execution_count": 14,
   "metadata": {
    "scrolled": false
   },
   "outputs": [
    {
     "name": "stdout",
     "output_type": "stream",
     "text": [
      "[[[0 0]\n",
      "  [0 0]\n",
      "  [0 1]]\n",
      "\n",
      " [[0 0]\n",
      "  [0 1]\n",
      "  [1 1]]\n",
      "\n",
      " [[0 0]\n",
      "  [0 0]\n",
      "  [1 1]]\n",
      "\n",
      " [[0 1]\n",
      "  [1 0]\n",
      "  [1 1]]\n",
      "\n",
      " [[0 1]\n",
      "  [1 1]\n",
      "  [1 1]]\n",
      "\n",
      " [[0 1]\n",
      "  [1 1]\n",
      "  [1 1]]\n",
      "\n",
      " [[1 0]\n",
      "  [0 0]\n",
      "  [0 0]]\n",
      "\n",
      " [[0 1]\n",
      "  [0 0]\n",
      "  [0 1]]\n",
      "\n",
      " [[1 0]\n",
      "  [0 1]\n",
      "  [1 1]]\n",
      "\n",
      " [[0 0]\n",
      "  [1 0]\n",
      "  [0 1]]]\n"
     ]
    }
   ],
   "source": [
    "pkl_file = open(f\"logs/control_results/results_nagents_2_numeps_0_nfaulty_0_nobs_3_method_LF+AF.pkl\", 'rb')\n",
    "mydict2 = pickle.load(pkl_file)\n",
    "\n",
    "o = mydict2['error'] # (result type) x number of steps x num obs\n",
    "\n",
    "print(o[0,:,:] - o[1,:,:])  # diff between result types\n",
    "pkl_file.close()"
   ]
  },
  {
   "cell_type": "code",
   "execution_count": null,
   "metadata": {},
   "outputs": [],
   "source": []
  }
 ],
 "metadata": {
  "kernelspec": {
   "display_name": "Python 3",
   "language": "python",
   "name": "python3"
  },
  "language_info": {
   "codemirror_mode": {
    "name": "ipython",
    "version": 3
   },
   "file_extension": ".py",
   "mimetype": "text/x-python",
   "name": "python",
   "nbconvert_exporter": "python",
   "pygments_lexer": "ipython3",
   "version": "3.6.1"
  }
 },
 "nbformat": 4,
 "nbformat_minor": 4
}
